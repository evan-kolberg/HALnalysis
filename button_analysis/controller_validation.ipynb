{
 "cells": [
  {
   "cell_type": "code",
   "execution_count": 49,
   "metadata": {},
   "outputs": [],
   "source": [
    "import numpy as np\n",
    "import pandas as pd\n",
    "import matplotlib.pyplot as plt\n",
    "import sys\n",
    "import os\n",
    "import h5py\n",
    "import re\n",
    "top_level_dir = os.path.abspath(os.path.join(os.path.dirname(\"binning.ipynb\"), '..'))\n",
    "sys.path.append(top_level_dir)\n",
    "\n",
    "from analysis_package import maxlab_analysis as mla\n",
    "\n",
    "parent = \"/run/user/1001/gvfs/smb-share:server=rstore.it.tufts.edu,share=as_rsch_levinlab_wclawson01$/Experimental Data/Summer 2024/button_detection\"\n",
    "# button_detection_sd4\n",
    "exp_name = \"button_verification\"\n",
    "chip_id = \"20551\"\n",
    "date = 241017\n",
    "trial = 6\n",
    "well = 0\n",
    "# exp_name = \"button_detection_sd4\"\n",
    "# chip_id = \"16365\"\n",
    "# date = 240904\n",
    "# trial = 1\n",
    "# well = 0\n",
    "config_a_file_name = \"buttonA.cfg\"\n",
    "config_b_file_name = \"buttonB.cfg\"\n",
    "\n",
    "\n",
    "data_path = f\"{parent}/{exp_name}/{chip_id}/{date}/{trial}/well{well}/\"\n",
    "\n",
    "h5_file_name = f\"{exp_name}_well_{well}.raw.h5\"\n",
    "\n",
    "a_color = \"red\"\n",
    "b_color = \"blue\"\n",
    "# a_color = \"green\"\n",
    "# b_color = \"darkorange\"\n"
   ]
  },
  {
   "cell_type": "code",
   "execution_count": 50,
   "metadata": {},
   "outputs": [],
   "source": [
    "def get_config_channels(config_file):\n",
    "    file = open(config_file, \"r\")\n",
    "    contents = file.read()\n",
    "    electrode_nums = []\n",
    "    curr_word = ''\n",
    "\n",
    "    for char in contents:\n",
    "        # character before channel number\n",
    "        if (char == ';'):\n",
    "            curr_word = ''\n",
    "\n",
    "        # character after channel number\n",
    "        elif (char == '('):\n",
    "            electrode_nums.append(int(curr_word))\n",
    "            curr_word = ''\n",
    "        \n",
    "        # all electrodes have been processed\n",
    "        elif (char == 'H'):\n",
    "            break\n",
    "        else:                                                                       \n",
    "            curr_word = curr_word + char\n",
    "    \n",
    "    file.close()\n",
    "    \n",
    "    return electrode_nums\n"
   ]
  },
  {
   "cell_type": "code",
   "execution_count": 51,
   "metadata": {},
   "outputs": [],
   "source": [
    "mapping = mla.load_mapping(data_path + h5_file_name, well_no = well)"
   ]
  },
  {
   "cell_type": "code",
   "execution_count": 52,
   "metadata": {},
   "outputs": [],
   "source": [
    "spike_df = mla.load_spikes_from_file(data_path + h5_file_name, well_no = well)"
   ]
  },
  {
   "cell_type": "code",
   "execution_count": 53,
   "metadata": {},
   "outputs": [
    {
     "name": "stdout",
     "output_type": "stream",
     "text": [
      "['events', 'groups', 'recording_id', 'settings', 'spikes', 'start_time', 'stop_time', 'well_id']\n"
     ]
    }
   ],
   "source": [
    "with h5py.File(data_path + h5_file_name, \"r\") as h5_file: #GET SAMP RATE AND MAPPING\n",
    "    h5_object = h5_file['wells']['well{0:0>3}'.format(well)]['rec{0:0>4}'.format(0)]\n",
    "    print(list(h5_object))\n",
    "    #data = pd.DataFrame(np.array(h5_object[\"spikes\"]))\n",
    "    samp_rate = np.array(h5_object[\"settings\"][\"sampling\"])[0]\n",
    "    mapping = pd.DataFrame(np.array(h5_object[\"settings\"][\"mapping\"]))"
   ]
  },
  {
   "cell_type": "code",
   "execution_count": 54,
   "metadata": {},
   "outputs": [],
   "source": [
    "binned_data, spike_data, times  = mla.bin_spike_data(spike_df, mapping, bin_size = 0.02, mode = \"binary\")"
   ]
  },
  {
   "cell_type": "code",
   "execution_count": 55,
   "metadata": {},
   "outputs": [
    {
     "data": {
      "text/plain": [
       "(0.0, 2100.0)"
      ]
     },
     "execution_count": 55,
     "metadata": {},
     "output_type": "execute_result"
    },
    {
     "data": {
      "image/png": "[encoded data removed]",
      "text/plain": [
       "<Figure size 640x480 with 1 Axes>"
      ]
     },
     "metadata": {},
     "output_type": "display_data"
    }
   ],
   "source": [
    "plt.scatter(mapping['x'], mapping['y'], 5)\n",
    "plt.xlim(0, 17.5 * 220)\n",
    "plt.ylim(0, 17.5 * 120)"
   ]
  },
  {
   "cell_type": "code",
   "execution_count": 56,
   "metadata": {},
   "outputs": [],
   "source": [
    "# display(binned_data)\n"
   ]
  },
  {
   "cell_type": "code",
   "execution_count": 57,
   "metadata": {},
   "outputs": [
    {
     "data": {
      "text/plain": [
       "0.0091324200913242"
      ]
     },
     "execution_count": 57,
     "metadata": {},
     "output_type": "execute_result"
    }
   ],
   "source": [
    "config_a = get_config_channels(data_path + config_a_file_name)\n",
    "config_b = get_config_channels(data_path + config_b_file_name)\n",
    "len(config_b)\n",
    "\n",
    "2/219"
   ]
  },
  {
   "cell_type": "code",
   "execution_count": 58,
   "metadata": {},
   "outputs": [],
   "source": [
    "binned_data_a = binned_data.loc[:, config_a]\n",
    "binned_data_b = binned_data.loc[:, config_b]"
   ]
  },
  {
   "cell_type": "code",
   "execution_count": 59,
   "metadata": {},
   "outputs": [
    {
     "data": {
      "text/html": [
       "<div>\n",
       "<style scoped>\n",
       "    .dataframe tbody tr th:only-of-type {\n",
       "        vertical-align: middle;\n",
       "    }\n",
       "\n",
       "    .dataframe tbody tr th {\n",
       "        vertical-align: top;\n",
       "    }\n",
       "\n",
       "    .dataframe thead th {\n",
       "        text-align: right;\n",
       "    }\n",
       "</style>\n",
       "<table border=\"1\" class=\"dataframe\">\n",
       "  <thead>\n",
       "    <tr style=\"text-align: right;\">\n",
       "      <th></th>\n",
       "      <th>frameno</th>\n",
       "      <th>eventtype</th>\n",
       "      <th>eventid</th>\n",
       "      <th>eventmessage</th>\n",
       "      <th>frameno_adjusted</th>\n",
       "      <th>time</th>\n",
       "      <th>eventmessage_decoded</th>\n",
       "    </tr>\n",
       "  </thead>\n",
       "  <tbody>\n",
       "    <tr>\n",
       "      <th>0</th>\n",
       "      <td>98351457</td>\n",
       "      <td>1</td>\n",
       "      <td>3</td>\n",
       "      <td>b'{\"closed_loop_start\":\"0\"}\\n'</td>\n",
       "      <td>101351</td>\n",
       "      <td>5.06755</td>\n",
       "      <td>{\"closed_loop_start\":\"0\"}\\n</td>\n",
       "    </tr>\n",
       "    <tr>\n",
       "      <th>1</th>\n",
       "      <td>98451440</td>\n",
       "      <td>1</td>\n",
       "      <td>102</td>\n",
       "      <td>b'{\"amp_mV\":\"15\",\"dac\":\"1\",\"num_trains\":\"1\",\"p...</td>\n",
       "      <td>201334</td>\n",
       "      <td>10.06670</td>\n",
       "      <td>{\"amp_mV\":\"15\",\"dac\":\"1\",\"num_trains\":\"1\",\"pha...</td>\n",
       "    </tr>\n",
       "    <tr>\n",
       "      <th>2</th>\n",
       "      <td>98451448</td>\n",
       "      <td>1</td>\n",
       "      <td>103</td>\n",
       "      <td>b'{\"amp_mV\":\"15\",\"dac\":\"1\",\"end_stimulation\":\"...</td>\n",
       "      <td>201342</td>\n",
       "      <td>10.06710</td>\n",
       "      <td>{\"amp_mV\":\"15\",\"dac\":\"1\",\"end_stimulation\":\"B\"...</td>\n",
       "    </tr>\n",
       "    <tr>\n",
       "      <th>3</th>\n",
       "      <td>98452450</td>\n",
       "      <td>1</td>\n",
       "      <td>6</td>\n",
       "      <td>b'{\"B\":\"pressed\"}\\n'</td>\n",
       "      <td>202344</td>\n",
       "      <td>10.11720</td>\n",
       "      <td>{\"B\":\"pressed\"}\\n</td>\n",
       "    </tr>\n",
       "    <tr>\n",
       "      <th>4</th>\n",
       "      <td>98551418</td>\n",
       "      <td>1</td>\n",
       "      <td>100</td>\n",
       "      <td>b'{\"amp_mV\":\"15\",\"dac\":\"2\",\"num_trains\":\"1\",\"p...</td>\n",
       "      <td>301312</td>\n",
       "      <td>15.06560</td>\n",
       "      <td>{\"amp_mV\":\"15\",\"dac\":\"2\",\"num_trains\":\"1\",\"pha...</td>\n",
       "    </tr>\n",
       "    <tr>\n",
       "      <th>5</th>\n",
       "      <td>98551426</td>\n",
       "      <td>1</td>\n",
       "      <td>101</td>\n",
       "      <td>b'{\"amp_mV\":\"15\",\"dac\":\"2\",\"end_stimulation\":\"...</td>\n",
       "      <td>301320</td>\n",
       "      <td>15.06600</td>\n",
       "      <td>{\"amp_mV\":\"15\",\"dac\":\"2\",\"end_stimulation\":\"A\"...</td>\n",
       "    </tr>\n",
       "    <tr>\n",
       "      <th>6</th>\n",
       "      <td>98552433</td>\n",
       "      <td>1</td>\n",
       "      <td>5</td>\n",
       "      <td>b'{\"A\":\"pressed\"}\\n'</td>\n",
       "      <td>302327</td>\n",
       "      <td>15.11635</td>\n",
       "      <td>{\"A\":\"pressed\"}\\n</td>\n",
       "    </tr>\n",
       "    <tr>\n",
       "      <th>7</th>\n",
       "      <td>98651402</td>\n",
       "      <td>1</td>\n",
       "      <td>102</td>\n",
       "      <td>b'{\"amp_mV\":\"15\",\"dac\":\"1\",\"num_trains\":\"1\",\"p...</td>\n",
       "      <td>401296</td>\n",
       "      <td>20.06480</td>\n",
       "      <td>{\"amp_mV\":\"15\",\"dac\":\"1\",\"num_trains\":\"1\",\"pha...</td>\n",
       "    </tr>\n",
       "    <tr>\n",
       "      <th>8</th>\n",
       "      <td>98651410</td>\n",
       "      <td>1</td>\n",
       "      <td>103</td>\n",
       "      <td>b'{\"amp_mV\":\"15\",\"dac\":\"1\",\"end_stimulation\":\"...</td>\n",
       "      <td>401304</td>\n",
       "      <td>20.06520</td>\n",
       "      <td>{\"amp_mV\":\"15\",\"dac\":\"1\",\"end_stimulation\":\"B\"...</td>\n",
       "    </tr>\n",
       "    <tr>\n",
       "      <th>9</th>\n",
       "      <td>98652410</td>\n",
       "      <td>1</td>\n",
       "      <td>6</td>\n",
       "      <td>b'{\"B\":\"pressed\"}\\n'</td>\n",
       "      <td>402304</td>\n",
       "      <td>20.11520</td>\n",
       "      <td>{\"B\":\"pressed\"}\\n</td>\n",
       "    </tr>\n",
       "    <tr>\n",
       "      <th>10</th>\n",
       "      <td>98751460</td>\n",
       "      <td>1</td>\n",
       "      <td>100</td>\n",
       "      <td>b'{\"amp_mV\":\"15\",\"dac\":\"2\",\"num_trains\":\"1\",\"p...</td>\n",
       "      <td>501354</td>\n",
       "      <td>25.06770</td>\n",
       "      <td>{\"amp_mV\":\"15\",\"dac\":\"2\",\"num_trains\":\"1\",\"pha...</td>\n",
       "    </tr>\n",
       "    <tr>\n",
       "      <th>11</th>\n",
       "      <td>98751468</td>\n",
       "      <td>1</td>\n",
       "      <td>101</td>\n",
       "      <td>b'{\"amp_mV\":\"15\",\"dac\":\"2\",\"end_stimulation\":\"...</td>\n",
       "      <td>501362</td>\n",
       "      <td>25.06810</td>\n",
       "      <td>{\"amp_mV\":\"15\",\"dac\":\"2\",\"end_stimulation\":\"A\"...</td>\n",
       "    </tr>\n",
       "    <tr>\n",
       "      <th>12</th>\n",
       "      <td>98752476</td>\n",
       "      <td>1</td>\n",
       "      <td>5</td>\n",
       "      <td>b'{\"A\":\"pressed\"}\\n'</td>\n",
       "      <td>502370</td>\n",
       "      <td>25.11850</td>\n",
       "      <td>{\"A\":\"pressed\"}\\n</td>\n",
       "    </tr>\n",
       "    <tr>\n",
       "      <th>13</th>\n",
       "      <td>98851444</td>\n",
       "      <td>1</td>\n",
       "      <td>102</td>\n",
       "      <td>b'{\"amp_mV\":\"15\",\"dac\":\"1\",\"num_trains\":\"1\",\"p...</td>\n",
       "      <td>601338</td>\n",
       "      <td>30.06690</td>\n",
       "      <td>{\"amp_mV\":\"15\",\"dac\":\"1\",\"num_trains\":\"1\",\"pha...</td>\n",
       "    </tr>\n",
       "    <tr>\n",
       "      <th>14</th>\n",
       "      <td>98851452</td>\n",
       "      <td>1</td>\n",
       "      <td>103</td>\n",
       "      <td>b'{\"amp_mV\":\"15\",\"dac\":\"1\",\"end_stimulation\":\"...</td>\n",
       "      <td>601346</td>\n",
       "      <td>30.06730</td>\n",
       "      <td>{\"amp_mV\":\"15\",\"dac\":\"1\",\"end_stimulation\":\"B\"...</td>\n",
       "    </tr>\n",
       "    <tr>\n",
       "      <th>15</th>\n",
       "      <td>98852448</td>\n",
       "      <td>1</td>\n",
       "      <td>6</td>\n",
       "      <td>b'{\"B\":\"pressed\"}\\n'</td>\n",
       "      <td>602342</td>\n",
       "      <td>30.11710</td>\n",
       "      <td>{\"B\":\"pressed\"}\\n</td>\n",
       "    </tr>\n",
       "  </tbody>\n",
       "</table>\n",
       "</div>"
      ],
      "text/plain": [
       "     frameno  eventtype  eventid  \\\n",
       "0   98351457          1        3   \n",
       "1   98451440          1      102   \n",
       "2   98451448          1      103   \n",
       "3   98452450          1        6   \n",
       "4   98551418          1      100   \n",
       "5   98551426          1      101   \n",
       "6   98552433          1        5   \n",
       "7   98651402          1      102   \n",
       "8   98651410          1      103   \n",
       "9   98652410          1        6   \n",
       "10  98751460          1      100   \n",
       "11  98751468          1      101   \n",
       "12  98752476          1        5   \n",
       "13  98851444          1      102   \n",
       "14  98851452          1      103   \n",
       "15  98852448          1        6   \n",
       "\n",
       "                                         eventmessage  frameno_adjusted  \\\n",
       "0                      b'{\"closed_loop_start\":\"0\"}\\n'            101351   \n",
       "1   b'{\"amp_mV\":\"15\",\"dac\":\"1\",\"num_trains\":\"1\",\"p...            201334   \n",
       "2   b'{\"amp_mV\":\"15\",\"dac\":\"1\",\"end_stimulation\":\"...            201342   \n",
       "3                                b'{\"B\":\"pressed\"}\\n'            202344   \n",
       "4   b'{\"amp_mV\":\"15\",\"dac\":\"2\",\"num_trains\":\"1\",\"p...            301312   \n",
       "5   b'{\"amp_mV\":\"15\",\"dac\":\"2\",\"end_stimulation\":\"...            301320   \n",
       "6                                b'{\"A\":\"pressed\"}\\n'            302327   \n",
       "7   b'{\"amp_mV\":\"15\",\"dac\":\"1\",\"num_trains\":\"1\",\"p...            401296   \n",
       "8   b'{\"amp_mV\":\"15\",\"dac\":\"1\",\"end_stimulation\":\"...            401304   \n",
       "9                                b'{\"B\":\"pressed\"}\\n'            402304   \n",
       "10  b'{\"amp_mV\":\"15\",\"dac\":\"2\",\"num_trains\":\"1\",\"p...            501354   \n",
       "11  b'{\"amp_mV\":\"15\",\"dac\":\"2\",\"end_stimulation\":\"...            501362   \n",
       "12                               b'{\"A\":\"pressed\"}\\n'            502370   \n",
       "13  b'{\"amp_mV\":\"15\",\"dac\":\"1\",\"num_trains\":\"1\",\"p...            601338   \n",
       "14  b'{\"amp_mV\":\"15\",\"dac\":\"1\",\"end_stimulation\":\"...            601346   \n",
       "15                               b'{\"B\":\"pressed\"}\\n'            602342   \n",
       "\n",
       "        time                               eventmessage_decoded  \n",
       "0    5.06755                        {\"closed_loop_start\":\"0\"}\\n  \n",
       "1   10.06670  {\"amp_mV\":\"15\",\"dac\":\"1\",\"num_trains\":\"1\",\"pha...  \n",
       "2   10.06710  {\"amp_mV\":\"15\",\"dac\":\"1\",\"end_stimulation\":\"B\"...  \n",
       "3   10.11720                                  {\"B\":\"pressed\"}\\n  \n",
       "4   15.06560  {\"amp_mV\":\"15\",\"dac\":\"2\",\"num_trains\":\"1\",\"pha...  \n",
       "5   15.06600  {\"amp_mV\":\"15\",\"dac\":\"2\",\"end_stimulation\":\"A\"...  \n",
       "6   15.11635                                  {\"A\":\"pressed\"}\\n  \n",
       "7   20.06480  {\"amp_mV\":\"15\",\"dac\":\"1\",\"num_trains\":\"1\",\"pha...  \n",
       "8   20.06520  {\"amp_mV\":\"15\",\"dac\":\"1\",\"end_stimulation\":\"B\"...  \n",
       "9   20.11520                                  {\"B\":\"pressed\"}\\n  \n",
       "10  25.06770  {\"amp_mV\":\"15\",\"dac\":\"2\",\"num_trains\":\"1\",\"pha...  \n",
       "11  25.06810  {\"amp_mV\":\"15\",\"dac\":\"2\",\"end_stimulation\":\"A\"...  \n",
       "12  25.11850                                  {\"A\":\"pressed\"}\\n  \n",
       "13  30.06690  {\"amp_mV\":\"15\",\"dac\":\"1\",\"num_trains\":\"1\",\"pha...  \n",
       "14  30.06730  {\"amp_mV\":\"15\",\"dac\":\"1\",\"end_stimulation\":\"B\"...  \n",
       "15  30.11710                                  {\"B\":\"pressed\"}\\n  "
      ]
     },
     "execution_count": 59,
     "metadata": {},
     "output_type": "execute_result"
    }
   ],
   "source": [
    "events = mla.load_events(data_path + h5_file_name, well_no = well)\n",
    "events"
   ]
  },
  {
   "cell_type": "code",
   "execution_count": 60,
   "metadata": {},
   "outputs": [
    {
     "data": {
      "text/plain": [
       "0    101351\n",
       "Name: frameno_adjusted, dtype: int64"
      ]
     },
     "execution_count": 60,
     "metadata": {},
     "output_type": "execute_result"
    }
   ],
   "source": [
    "a_pressed = events.loc[events[\"eventid\"] == 5, \"time\"]\n",
    "b_pressed = events.loc[events[\"eventid\"] == 6, \"time\"]\n",
    "experiment_start = events.loc[events[\"eventid\"] == 3, \"frameno_adjusted\"]\n",
    "a_pressed_frames = events.loc[events[\"eventid\"] == 5, [\"frameno_adjusted\", \"time\"]]\n",
    "experiment_start"
   ]
  },
  {
   "cell_type": "code",
   "execution_count": 61,
   "metadata": {},
   "outputs": [],
   "source": [
    "def get_csv_frame(time):\n",
    "    return time * 10000 - experiment_start\n",
    "\n",
    "def get_graph_time(frame):\n",
    "    return (frame + experiment_start) / 10000"
   ]
  },
  {
   "cell_type": "code",
   "execution_count": 62,
   "metadata": {},
   "outputs": [
    {
     "data": {
      "image/png": "[encoded data removed]",
      "text/plain": [
       "<Figure size 1000x800 with 2 Axes>"
      ]
     },
     "metadata": {},
     "output_type": "display_data"
    }
   ],
   "source": [
    "\n",
    "\n",
    "\n",
    "\n",
    "def plot_buttons(xlims, ylims):\n",
    "    plt.figure(figsize = (10, 8))\n",
    "    ax1 = plt.subplot(211)\n",
    "    plt.title(\"Button A Activity\")\n",
    "    plt.plot(times, binned_data_a.sum(axis = 1), label = \"Button A\", color = \"black\")\n",
    "    plt.ylabel(\"Number of channels firing\")\n",
    "    ax1.set_ylim(y_lims)\n",
    "    if x_lims != []:\n",
    "        ax1.set_xlim(x_lims)\n",
    "    for p in a_pressed:\n",
    "        ax1.axvline(p, color = a_color)\n",
    "    ax2 = plt.subplot(212, sharex = ax1)\n",
    "\n",
    "\n",
    "    plt.title(\"Button B Activity\")\n",
    "    plt.ylabel(\"Number of channels firing\")\n",
    "    # /len(binned_data_b.columns) /len(binned_data_a.columns)\n",
    "    plt.plot(times, binned_data_b.sum(axis = 1), label = \"Button B\", color = \"black\")\n",
    "    ax2.set_ylim(y_lims)\n",
    "    if x_lims != []:\n",
    "        ax2.set_xlim(x_lims)\n",
    "    for p in b_pressed:\n",
    "        ax2.axvline(p, color = b_color)\n",
    "\n",
    "    # plt.subplot(313, sharex = ax1)\n",
    "    # plt.title(\"Closed-loop Detection\")\n",
    "    # plt.scatter(a_pressed, [0] * len(a_pressed), color = a_color, label = \"Button A pressed\")\n",
    "    # plt.scatter(b_pressed, [0] * len(b_pressed), color = b_color, label = \"Button B pressed\")\n",
    "    # plt.legend()\n",
    "    # plt.xlabel(\"Time (s)\")\n",
    "\n",
    "\n",
    "    plt.tight_layout()\n",
    "\n",
    "# Areas to look at\n",
    "\n",
    "# trial 7\n",
    "# t=12:14, Button B\n",
    "\n",
    "# trial 8\n",
    "# t=31.25:31.75, Button A\n",
    "\n",
    "# A threshold: 0.363067\n",
    "# B threshold: -0.5\n",
    "\n",
    "y_lims = [0, 20]\n",
    "x_lims = []\n",
    "plot_buttons(x_lims, y_lims)"
   ]
  },
  {
   "cell_type": "code",
   "execution_count": 63,
   "metadata": {},
   "outputs": [
    {
     "data": {
      "text/plain": [
       "0    728649\n",
       "Name: frameno_adjusted, dtype: int64"
      ]
     },
     "execution_count": 63,
     "metadata": {},
     "output_type": "execute_result"
    }
   ],
   "source": [
    "get_csv_frame(83)"
   ]
  },
  {
   "cell_type": "code",
   "execution_count": 64,
   "metadata": {},
   "outputs": [
    {
     "name": "stdout",
     "output_type": "stream",
     "text": [
      "[ 749  854  121  546  774  766  541  721  566  405  769  385  837  625\n",
      "  906  457  526  657  165  934  765  650  610  513  726  789  117  533\n",
      " 1022  746  698  525  773  790  685  734  545  597  778  669  870  637\n",
      "  393  629  818  820  718  605  649  809]\n",
      "[745 397 825 846 862 733 461 421 638 662 149 838 806 822 892 233 585 702\n",
      " 622 834 389 529 710 249 618 425 705 693 742 153 982 762 578  34 265 181\n",
      " 129 677 978 589 805 594 898 569 950 697 237 537 757 177]\n"
     ]
    }
   ],
   "source": [
    "# choose random electrodes (50 each)\n",
    "randchoice = np.random.choice(mapping['channel'], size = 100, replace = False)\n",
    "\n",
    "buttonA = randchoice[0: len(randchoice) // 2]\n",
    "buttonB = randchoice[len(randchoice) // 2: len(randchoice)]\n",
    "\n",
    "print(buttonA)\n",
    "print(buttonB)"
   ]
  },
  {
   "cell_type": "code",
   "execution_count": 65,
   "metadata": {},
   "outputs": [],
   "source": [
    "def get_coords_slice(df, button):\n",
    "    return df.loc[(np.isin(df[\"channel\"], button)), [\"x\", \"y\"]]"
   ]
  },
  {
   "cell_type": "code",
   "execution_count": 66,
   "metadata": {},
   "outputs": [
    {
     "data": {
      "text/plain": [
       "0      3377.5\n",
       "5      3272.5\n",
       "6      3237.5\n",
       "7      3447.5\n",
       "8      3447.5\n",
       "        ...  \n",
       "189    3202.5\n",
       "192    3202.5\n",
       "194    3167.5\n",
       "200    3132.5\n",
       "204    3097.5\n",
       "Name: x, Length: 121, dtype: float64"
      ]
     },
     "execution_count": 66,
     "metadata": {},
     "output_type": "execute_result"
    },
    {
     "data": {
      "image/png": "[encoded data removed]",
      "text/plain": [
       "<Figure size 640x480 with 1 Axes>"
      ]
     },
     "metadata": {},
     "output_type": "display_data"
    }
   ],
   "source": [
    "\n",
    "a_slice = get_coords_slice(mapping, config_a)\n",
    "b_slice = get_coords_slice(mapping, config_b)\n",
    "\n",
    "plt.xlim(0, 17.5 * 220)\n",
    "plt.ylim(0, 17.5 * 120)\n",
    "plt.scatter(a_slice['x'], a_slice['y'], 10, color=a_color, label=\"Button A electrodes\")\n",
    "plt.gca().invert_yaxis()\n",
    "plt.scatter(b_slice['x'], b_slice['y'], 10, color=b_color, label=\"Button B electrodes\")\n",
    "plt.gca().tick_params(top=True, labeltop=True, labelbottom=False, bottom=False)\n",
    "plt.title(\"Chip Configuration\")\n",
    "plt.legend()\n",
    "\n",
    "b_slice['x']"
   ]
  }
 ],
 "metadata": {
  "kernelspec": {
   "display_name": "Python 3.11.9 64-bit",
   "language": "python",
   "name": "python3"
  },
  "language_info": {
   "codemirror_mode": {
    "name": "ipython",
    "version": 3
   },
   "file_extension": ".py",
   "mimetype": "text/x-python",
   "name": "python",
   "nbconvert_exporter": "python",
   "pygments_lexer": "ipython3",
   "version": "3.11.5"
  },
  "orig_nbformat": 4,
  "vscode": {
   "interpreter": {
    "hash": "5c7b89af1651d0b8571dde13640ecdccf7d5a6204171d6ab33e7c296e100e08a"
   }
  }
 },
 "nbformat": 4,
 "nbformat_minor": 2
}
